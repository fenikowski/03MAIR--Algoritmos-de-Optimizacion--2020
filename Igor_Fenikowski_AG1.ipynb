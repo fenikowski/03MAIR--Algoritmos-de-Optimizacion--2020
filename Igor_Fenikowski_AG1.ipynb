{
  "nbformat": 4,
  "nbformat_minor": 0,
  "metadata": {
    "colab": {
      "name": "Igor Fenikowski - AG1.ipynb",
      "provenance": [],
      "collapsed_sections": [],
      "authorship_tag": "ABX9TyO8GCm8UKRF478bIGuno9Ng",
      "include_colab_link": true
    },
    "kernelspec": {
      "name": "python3",
      "display_name": "Python 3"
    }
  },
  "cells": [
    {
      "cell_type": "markdown",
      "metadata": {
        "id": "view-in-github",
        "colab_type": "text"
      },
      "source": [
        "<a href=\"https://colab.research.google.com/github/fenikowski/03MAIR--Algoritmos-de-Optimizacion--2020/blob/master/Igor_Fenikowski_AG1.ipynb\" target=\"_parent\"><img src=\"https://colab.research.google.com/assets/colab-badge.svg\" alt=\"Open In Colab\"/></a>"
      ]
    },
    {
      "cell_type": "code",
      "metadata": {
        "id": "YpiEfWeOaYY4",
        "colab_type": "code",
        "colab": {}
      },
      "source": [
        "# Nombre: Igor Fenikowski\n",
        "# https://colab.research.google.com/drive/1YPm7ViGy6bWPnOyOcAnYK6E0_0LhHoAV?usp=sharing"
      ],
      "execution_count": null,
      "outputs": []
    },
    {
      "cell_type": "markdown",
      "metadata": {
        "id": "Sp93rItlKXZh",
        "colab_type": "text"
      },
      "source": [
        "# Actividad Guiada"
      ]
    },
    {
      "cell_type": "code",
      "metadata": {
        "id": "7cdBaNPZaHzm",
        "colab_type": "code",
        "colab": {
          "base_uri": "https://localhost:8080/",
          "height": 134
        },
        "outputId": "b61a12c6-1086-4721-859f-d391dda7193d"
      },
      "source": [
        "def hanoi_towers(n, desde, hasta):\n",
        "  if n == 1:\n",
        "    print(\"Mueve desde la \" + str(desde) + \" hasta \" + str(hasta))\n",
        "  else:\n",
        "    hanoi_towers(n-1, desde, hasta - desde)\n",
        "    print(\"Mueve desde la \" + str(desde) + \" hasta \" + str(hasta))\n",
        "    hanoi_towers(n-1, 6 - hasta - desde, hasta)\n",
        "\n",
        "hanoi_towers(3,1,3)"
      ],
      "execution_count": null,
      "outputs": [
        {
          "output_type": "stream",
          "text": [
            "Mueve desde la 1 hasta 1\n",
            "Mueve desde la 1 hasta 2\n",
            "Mueve desde la 3 hasta 2\n",
            "Mueve desde la 1 hasta 3\n",
            "Mueve desde la 2 hasta 1\n",
            "Mueve desde la 2 hasta 3\n",
            "Mueve desde la 1 hasta 3\n"
          ],
          "name": "stdout"
        }
      ]
    },
    {
      "cell_type": "code",
      "metadata": {
        "id": "HJ973npAxgzc",
        "colab_type": "code",
        "colab": {
          "base_uri": "https://localhost:8080/",
          "height": 34
        },
        "outputId": "abe70705-4245-4e1c-e0b5-76ae436166e5"
      },
      "source": [
        "monetary_system = [25,10,5,1]\n",
        "\n",
        "def change(n, monetary_system):\n",
        "\n",
        "  accumulated_value = 0\n",
        "  result = [0] * len(monetary_system)\n",
        "\n",
        "  for i,m in enumerate(monetary_system):\n",
        "    coins = (n - accumulated_value) // m\n",
        "    accumulated_value = accumulated_value + coins * m\n",
        "    result[i] = coins\n",
        "\n",
        "    if accumulated_value == n: return result\n",
        "\n",
        "change(17, monetary_system)"
      ],
      "execution_count": null,
      "outputs": [
        {
          "output_type": "execute_result",
          "data": {
            "text/plain": [
              "[0, 1, 1, 2]"
            ]
          },
          "metadata": {
            "tags": []
          },
          "execution_count": 8
        }
      ]
    },
    {
      "cell_type": "markdown",
      "metadata": {
        "id": "nUSCcRP6KlSl",
        "colab_type": "text"
      },
      "source": [
        "# Practica Individual"
      ]
    },
    {
      "cell_type": "markdown",
      "metadata": {
        "id": "VP9P3cQsbkMu",
        "colab_type": "text"
      },
      "source": [
        "### Algóritmo por fuerza bruta"
      ]
    },
    {
      "cell_type": "code",
      "metadata": {
        "id": "X_jRRtwzBWiF",
        "colab_type": "code",
        "colab": {
          "base_uri": "https://localhost:8080/",
          "height": 34
        },
        "outputId": "56892d51-15d0-4280-d65a-4b9714701039"
      },
      "source": [
        "import random\n",
        "\n",
        "list_1D = [(random.randrange(1,100000)) for x in range(100)]\n",
        "list_2D = [(random.randrange(1,100000), random.randrange(1,100000)) for x in range(100)]\n",
        "list_3D = [(random.randrange(1,100000), random.randrange(1,100000),  random.randrange(1,100000)) for x in range(100)]\n",
        "\n",
        "def brute_force(number_list):\n",
        "  result = [number_list[0], number_list[1]]\n",
        "\n",
        "  for index, x in enumerate(number_list):\n",
        "    for index2, i in enumerate(number_list):\n",
        "      if abs(x - i) < abs(result[0] - result[1]) and index != index2:\n",
        "        result = [x,i]\n",
        "  return result\n",
        "\n",
        "brute_force(list_1D)"
      ],
      "execution_count": 187,
      "outputs": [
        {
          "output_type": "execute_result",
          "data": {
            "text/plain": [
              "[82842, 82861]"
            ]
          },
          "metadata": {
            "tags": []
          },
          "execution_count": 187
        }
      ]
    },
    {
      "cell_type": "markdown",
      "metadata": {
        "id": "G05zaEvJFYrT",
        "colab_type": "text"
      },
      "source": [
        "Complejidad: $$ n^2 $$"
      ]
    },
    {
      "cell_type": "markdown",
      "metadata": {
        "id": "8tesDHLAbrmC",
        "colab_type": "text"
      },
      "source": [
        "### Divide y vencerás"
      ]
    },
    {
      "cell_type": "code",
      "metadata": {
        "id": "Vl18CNZ-BiTj",
        "colab_type": "code",
        "colab": {
          "base_uri": "https://localhost:8080/",
          "height": 34
        },
        "outputId": "492bddea-b7ab-4736-c5e1-7eaa5f9673e2"
      },
      "source": [
        "\n",
        "def divide_and_conquer(number_list, previous_result = [0,10000]):\n",
        "  result = previous_result\n",
        "\n",
        "  number = number_list.pop()\n",
        "  \n",
        "  for i in number_list:\n",
        "    if (abs(i - number) < abs(result[0] - result[1])):\n",
        "      result = [i, number]\n",
        "\n",
        "  \n",
        "  if len(number_list) < 3:\n",
        "    return print(result)\n",
        "  else:\n",
        "    divide_and_conquer(number_list, result)\n",
        "\n",
        "divide_and_conquer(list_1D)"
      ],
      "execution_count": 188,
      "outputs": [
        {
          "output_type": "stream",
          "text": [
            "[82842, 82861]\n"
          ],
          "name": "stdout"
        }
      ]
    },
    {
      "cell_type": "markdown",
      "metadata": {
        "id": "4eGQSMSkFtuJ",
        "colab_type": "text"
      },
      "source": [
        "Complejidad: $$ n $$"
      ]
    },
    {
      "cell_type": "markdown",
      "metadata": {
        "id": "muXrlo2Ubzi6",
        "colab_type": "text"
      },
      "source": [
        "### Divide y vencerás (2D y 3D)"
      ]
    },
    {
      "cell_type": "code",
      "metadata": {
        "id": "nMzPmTzLb4ue",
        "colab_type": "code",
        "colab": {
          "base_uri": "https://localhost:8080/",
          "height": 50
        },
        "outputId": "7e8040e9-81c4-410e-aa74-b0fc23519dab"
      },
      "source": [
        "def count_distance(lista1, lista2):\n",
        "  result = 0\n",
        "  for index, value in enumerate(lista1):\n",
        "    result += abs(value-lista2[index])\n",
        "  return result\n",
        "\n",
        "def generate_random_list(dimensions):\n",
        "  return [[random.randrange(1,100000) for x in range(dimensions)],[random.randrange(1,100000) for x in range(dimensions)]]\n",
        "\n",
        "\n",
        "def divide_and_conquer_multidimensional(number_list, previous_result = False):\n",
        "  result = previous_result if previous_result != False else generate_random_list(len(number_list[0]))\n",
        "\n",
        "  number = number_list.pop()\n",
        "  \n",
        "  for i in number_list:\n",
        "    if count_distance(i, number) < count_distance(result[0], result[1]):\n",
        "      result = [i, number]\n",
        "\n",
        "  \n",
        "  if len(number_list) < 3:\n",
        "    return print(result)\n",
        "  else:\n",
        "    divide_and_conquer_multidimensional(number_list, result)\n",
        "\n",
        "divide_and_conquer_multidimensional(list_2D)\n",
        "divide_and_conquer_multidimensional(list_3D)"
      ],
      "execution_count": 189,
      "outputs": [
        {
          "output_type": "stream",
          "text": [
            "[(59438, 29657), (58371, 29543)]\n",
            "[(37887, 33806, 48400), (38531, 34182, 51251)]\n"
          ],
          "name": "stdout"
        }
      ]
    }
  ]
}