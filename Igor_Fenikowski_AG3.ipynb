{
  "nbformat": 4,
  "nbformat_minor": 0,
  "metadata": {
    "colab": {
      "name": "Igor Fenikowski - AG3.ipynb",
      "provenance": [],
      "authorship_tag": "ABX9TyMtZTc7M+dKWrIT3iRuRbLV",
      "include_colab_link": true
    },
    "kernelspec": {
      "name": "python3",
      "display_name": "Python 3"
    }
  },
  "cells": [
    {
      "cell_type": "markdown",
      "metadata": {
        "id": "view-in-github",
        "colab_type": "text"
      },
      "source": [
        "<a href=\"https://colab.research.google.com/github/fenikowski/03MAIR--Algoritmos-de-Optimizacion--2020/blob/master/Igor_Fenikowski_AG3.ipynb\" target=\"_parent\"><img src=\"https://colab.research.google.com/assets/colab-badge.svg\" alt=\"Open In Colab\"/></a>"
      ]
    },
    {
      "cell_type": "code",
      "metadata": {
        "id": "ZVC6yyK-PMHI",
        "colab_type": "code",
        "colab": {}
      },
      "source": [
        "# Nombre: Igor Fenikowski\n",
        "# https://colab.research.google.com/drive/1Y2OtF4drywGZMKtBOICsgVb3O3lq1D_h?usp=sharing\n",
        "# https://github.com/fenikowski/03MAIR--Algoritmos-de-Optimizacion--2020/blob/master/Igor_Fenikowski_AG3.ipynb"
      ],
      "execution_count": 1,
      "outputs": []
    },
    {
      "cell_type": "code",
      "metadata": {
        "id": "bWh9irc5Xmvo",
        "colab_type": "code",
        "colab": {}
      },
      "source": [
        "!pip install request\n",
        "!pip install tsplib95"
      ],
      "execution_count": null,
      "outputs": []
    },
    {
      "cell_type": "code",
      "metadata": {
        "id": "4tMAkw8xXoy0",
        "colab_type": "code",
        "colab": {}
      },
      "source": [
        "import urllib\n",
        "import tsplib95\n",
        "import random\n",
        "from math import e, exp"
      ],
      "execution_count": 3,
      "outputs": []
    },
    {
      "cell_type": "code",
      "metadata": {
        "id": "R8BVgAmmYEKr",
        "colab_type": "code",
        "colab": {
          "base_uri": "https://localhost:8080/",
          "height": 34
        },
        "outputId": "bb440be2-0f86-4140-97bf-b0e94787e1d8"
      },
      "source": [
        "file = \"swiss42.tsp\"\n",
        "\n",
        "urllib.request.urlretrieve(\"http://elib.zib.de/pub/mp-testdata/tsp/tsplib/tsp/swiss42.tsp\", file)"
      ],
      "execution_count": 4,
      "outputs": [
        {
          "output_type": "execute_result",
          "data": {
            "text/plain": [
              "('swiss42.tsp', <http.client.HTTPMessage at 0x7f184a21e198>)"
            ]
          },
          "metadata": {
            "tags": []
          },
          "execution_count": 4
        }
      ]
    },
    {
      "cell_type": "code",
      "metadata": {
        "id": "IEjAiahHY_ey",
        "colab_type": "code",
        "colab": {}
      },
      "source": [
        "problem = tsplib95.load(file)\n",
        "\n",
        "nodes = list(problem.get_nodes())\n",
        "edges = list(problem.get_edges())"
      ],
      "execution_count": 5,
      "outputs": []
    },
    {
      "cell_type": "markdown",
      "metadata": {
        "id": "1B0fFQA53crM",
        "colab_type": "text"
      },
      "source": [
        "### Busqueda aleatoria"
      ]
    },
    {
      "cell_type": "code",
      "metadata": {
        "id": "0okeSUDybPdK",
        "colab_type": "code",
        "colab": {
          "base_uri": "https://localhost:8080/",
          "height": 34
        },
        "outputId": "0d460668-5ded-4da4-9b33-87a2970728e8"
      },
      "source": [
        "def create_solution(nodes):\n",
        "  solution = [nodes[0]]\n",
        "  for i in nodes[1:]:\n",
        "    solution = solution + [random.choice(list(set(nodes) - set({nodes[0]}) - set(solution)))]\n",
        "  return solution\n",
        "\n",
        "def distance(a,b,problem):\n",
        "  return problem.get_weight(a,b)\n",
        "\n",
        "def total_distance(solution, problem):\n",
        "  total = 0\n",
        "  for i in range(len(solution)-1):\n",
        "    total += distance(solution[i] ,solution[i+1] ,  problem)\n",
        "  return total + distance(solution[len(solution)-1] ,solution[0], problem)\n",
        "\n",
        "\n",
        "solution = create_solution(nodes)\n",
        "total_distance(solution,problem)"
      ],
      "execution_count": 6,
      "outputs": [
        {
          "output_type": "execute_result",
          "data": {
            "text/plain": [
              "4841"
            ]
          },
          "metadata": {
            "tags": []
          },
          "execution_count": 6
        }
      ]
    },
    {
      "cell_type": "code",
      "metadata": {
        "id": "vYsgApVsegmd",
        "colab_type": "code",
        "colab": {
          "base_uri": "https://localhost:8080/",
          "height": 34
        },
        "outputId": "586b208c-43ab-4db4-9b28-49e772c9141c"
      },
      "source": [
        "def random_search(problem, n):\n",
        "  best_solution = 0\n",
        "  best_distance = 10e10\n",
        "\n",
        "  for i in range(n):\n",
        "    solution = create_solution(nodes)\n",
        "    distance = total_distance(solution,problem)\n",
        "\n",
        "    if distance < best_distance:\n",
        "      best_solution = solution\n",
        "      best_distance = distance\n",
        "\n",
        "  return best_distance\n",
        "\n",
        "\n",
        "random_search(problem, 10000)"
      ],
      "execution_count": 7,
      "outputs": [
        {
          "output_type": "execute_result",
          "data": {
            "text/plain": [
              "3681"
            ]
          },
          "metadata": {
            "tags": []
          },
          "execution_count": 7
        }
      ]
    },
    {
      "cell_type": "markdown",
      "metadata": {
        "id": "WxhRDerW3i-M",
        "colab_type": "text"
      },
      "source": [
        "### Busqueda local"
      ]
    },
    {
      "cell_type": "code",
      "metadata": {
        "id": "gt8YYHDkN4XB",
        "colab_type": "code",
        "colab": {
          "base_uri": "https://localhost:8080/",
          "height": 34
        },
        "outputId": "b8a2475a-9417-4128-a2d6-388fcc1152c7"
      },
      "source": [
        "def generate_neighbour(solution):\n",
        "  best_solution = []\n",
        "  best_distance = 10e10\n",
        "\n",
        "  for i in range(1, len(solution)-1):\n",
        "    for j in range(i+i, len(solution)):\n",
        "\n",
        "      neighbour = solution[:i] + [solution[j]] + solution[i+1:j] + [solution[i]] + solution[j+1:]\n",
        "      neighbour_distance = total_distance(neighbour, problem)\n",
        "\n",
        "      if neighbour_distance < best_distance:\n",
        "        best_solution = neighbour\n",
        "        best_distance = neighbour_distance\n",
        "\n",
        "  return best_solution\n",
        "\n",
        "solution = create_solution(nodes)\n",
        "solution2 = generate_neighbour(solution) \n",
        "print(total_distance(solution, problem), total_distance(solution2,problem))"
      ],
      "execution_count": 8,
      "outputs": [
        {
          "output_type": "stream",
          "text": [
            "4718 4152\n"
          ],
          "name": "stdout"
        }
      ]
    },
    {
      "cell_type": "code",
      "metadata": {
        "id": "AjxVFWbJXCD4",
        "colab_type": "code",
        "colab": {
          "base_uri": "https://localhost:8080/",
          "height": 50
        },
        "outputId": "0eeee616-d5df-46fc-e106-e0e4b25c1059"
      },
      "source": [
        "def local_search(problem):\n",
        "  reference_solution = create_solution(nodes)\n",
        "  best_distance = 10e10\n",
        "\n",
        "  iteration = 0\n",
        "  while(1):\n",
        "    iteration += 1\n",
        "    neighbour = generate_neighbour(reference_solution)\n",
        "    neighbour_distance = total_distance(neighbour, problem)\n",
        "\n",
        "    if neighbour_distance < best_distance:\n",
        "      best_solution = neighbour\n",
        "      best_distance = neighbour_distance\n",
        "    else:\n",
        "      print(\"En la iteración \" + str(iteration) + \" encontramos la solución \" + str(best_distance))\n",
        "      return best_distance\n",
        "\n",
        "    reference_solution = neighbour\n",
        "\n",
        "local_search(problem)"
      ],
      "execution_count": 9,
      "outputs": [
        {
          "output_type": "stream",
          "text": [
            "En la iteración 16 encontramos la solución 2519\n"
          ],
          "name": "stdout"
        },
        {
          "output_type": "execute_result",
          "data": {
            "text/plain": [
              "2519"
            ]
          },
          "metadata": {
            "tags": []
          },
          "execution_count": 9
        }
      ]
    },
    {
      "cell_type": "markdown",
      "metadata": {
        "id": "xKWXT8jl3pNW",
        "colab_type": "text"
      },
      "source": [
        "### Recocido simulado "
      ]
    },
    {
      "cell_type": "code",
      "metadata": {
        "id": "VTEtabp9dfty",
        "colab_type": "code",
        "colab": {}
      },
      "source": [
        "def generate_random_neighbour(solution):\n",
        "  i,j = sorted(random.sample( range(1,len(solution)) , 2))\n",
        "  return solution[:i] + [solution[j]] + solution[i+1:j] + [solution[i]] + solution[j+1:]\n",
        "\n",
        "def probability(T,d):\n",
        "  return random.random() < exp( -1*d / T)\n",
        "\n",
        "def lower_temperature(T):\n",
        "  return T*0.99"
      ],
      "execution_count": 10,
      "outputs": []
    },
    {
      "cell_type": "code",
      "metadata": {
        "id": "BsL-XZ5UfsMf",
        "colab_type": "code",
        "colab": {
          "base_uri": "https://localhost:8080/",
          "height": 34
        },
        "outputId": "dee5f901-bb61-47a3-e406-3de2adc4fa9c"
      },
      "source": [
        "import copy\n",
        "\n",
        "def simulated_annealing(problem, temperature=1000):\n",
        "  reference_solution = create_solution(nodes)\n",
        "  reference_distance = total_distance(reference_solution, problem)\n",
        "\n",
        "  best_solution = []\n",
        "  best_distance = 10e10\n",
        "\n",
        "  iterations = 0\n",
        "  while temperature > 0.0001:\n",
        "    iterations += 1\n",
        "    neighbour = generate_random_neighbour(reference_solution)\n",
        "    neighbour_distance = total_distance(neighbour,problem)\n",
        "\n",
        "    if neighbour_distance < best_distance:\n",
        "      best_solution = neighbour\n",
        "      best_distance = neighbour_distance\n",
        "\n",
        "    if neighbour_distance < reference_distance or probability(temperature, abs(reference_distance - neighbour_distance)):\n",
        "      reference_solution = copy.deepcopy(neighbour)\n",
        "      reference_distance = neighbour_distance\n",
        "\n",
        "    temperature = lower_temperature(temperature)\n",
        "  \n",
        "  return best_distance\n",
        "\n",
        "simulated_annealing(problem)"
      ],
      "execution_count": 11,
      "outputs": [
        {
          "output_type": "execute_result",
          "data": {
            "text/plain": [
              "2154"
            ]
          },
          "metadata": {
            "tags": []
          },
          "execution_count": 11
        }
      ]
    },
    {
      "cell_type": "markdown",
      "metadata": {
        "id": "018MT2WO326E",
        "colab_type": "text"
      },
      "source": [
        "### Colonia de hormigas"
      ]
    },
    {
      "cell_type": "code",
      "metadata": {
        "id": "5xZyAndG3Soj",
        "colab_type": "code",
        "colab": {}
      },
      "source": [
        "def add_node(problem, H ,T ) :\n",
        "  nodes = list(problem.get_nodes())\n",
        "  return random.choice( list(set(range(1,len(nodes))) - set(H) ))\n",
        "\n",
        "def increment_feromons(problem, T, H ) :\n",
        "  for i in range(len(H)-1):\n",
        "    T[H[i]][H[i+1]] += 1000/total_distance(H, problem)\n",
        "  return T\n",
        "\n",
        "def evaporate_feromones(T ):\n",
        "  T = [[ max(T[i][j] - 0.3 , 1) for i in range(len(nodes)) ] for j in range(len(nodes))]\n",
        "  return T"
      ],
      "execution_count": 12,
      "outputs": []
    },
    {
      "cell_type": "code",
      "metadata": {
        "id": "AQpBjx2J3T5V",
        "colab_type": "code",
        "colab": {
          "base_uri": "https://localhost:8080/",
          "height": 50
        },
        "outputId": "76fcedcb-a126-4fbb-cff8-5340bac4c5d3"
      },
      "source": [
        "def ant_colony(problem, N) :\n",
        "  nodes = list(problem.get_nodes())\n",
        "  edges = list(problem.get_edges()) \n",
        "  \n",
        "  T = [[ 1 for _ in range(len(nodes)) ] for _ in range(len(nodes))]\n",
        "  \n",
        "  #Se generan los agentes(hormigas) que serán estructuras de caminos desde 0\n",
        "  ant = [[0] for _ in range(N)]\n",
        "  \n",
        "  #Recorre cada agente construyendo la solución\n",
        "  for h in range(N) :\n",
        "    #Para cada agente se construye un camino\n",
        "    for i in range(len(nodes)-1) :\n",
        "      \n",
        "      #Elige el siguiente nodo\n",
        "      new_node = add_node(problem, ant[h] ,T )\n",
        "      ant[h].append(new_node)     \n",
        "    \n",
        "    #Incrementa feromonas en esa arista \n",
        "    T = increment_feromons(problem, T, ant[h] )\n",
        "    #print(\"Feromonas(1)\", T)\n",
        "      \n",
        "    #Evapora Feromonas  \n",
        "    T = evaporate_feromones(T)\n",
        "\n",
        "    #Seleccionamos el mejor agente\n",
        "  best_solution = []\n",
        "  best_distance = 10e100\n",
        "  for h in range(N) :\n",
        "    actual_distance = total_distance(ant[h], problem)\n",
        "    if actual_distance < best_distance:\n",
        "      best_solution = ant[h]\n",
        "      best_distance = actual_distance\n",
        "  \n",
        "  \n",
        "  print(best_solution)\n",
        "  print(best_distance)\n",
        "  \n",
        "  \n",
        "ant_colony(problem, 10000)"
      ],
      "execution_count": 13,
      "outputs": [
        {
          "output_type": "stream",
          "text": [
            "[0, 14, 12, 15, 7, 6, 41, 21, 9, 38, 26, 16, 31, 20, 18, 5, 27, 19, 13, 37, 35, 36, 23, 11, 25, 4, 22, 3, 1, 2, 28, 17, 32, 29, 10, 33, 34, 24, 8, 40, 39, 30]\n",
            "3608\n"
          ],
          "name": "stdout"
        }
      ]
    }
  ]
}