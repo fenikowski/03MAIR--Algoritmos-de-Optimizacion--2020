{
  "nbformat": 4,
  "nbformat_minor": 0,
  "metadata": {
    "colab": {
      "name": "Igor Fenikowski - AG2.ipynb",
      "provenance": [],
      "collapsed_sections": [],
      "authorship_tag": "ABX9TyNaqiGtmeZwW/gTXEU0ZeQz",
      "include_colab_link": true
    },
    "kernelspec": {
      "name": "python3",
      "display_name": "Python 3"
    }
  },
  "cells": [
    {
      "cell_type": "markdown",
      "metadata": {
        "id": "view-in-github",
        "colab_type": "text"
      },
      "source": [
        "<a href=\"https://colab.research.google.com/github/fenikowski/03MAIR--Algoritmos-de-Optimizacion--2020/blob/master/Igor_Fenikowski_AG2.ipynb\" target=\"_parent\"><img src=\"https://colab.research.google.com/assets/colab-badge.svg\" alt=\"Open In Colab\"/></a>"
      ]
    },
    {
      "cell_type": "code",
      "metadata": {
        "id": "J7YQRQ-DCYK6",
        "colab_type": "code",
        "colab": {}
      },
      "source": [
        "# Nombre: Igor Fenikowski\n",
        "# https://colab.research.google.com/drive/1cOJFvF5J6xthI8QWPFjWJLHgkDygwFkL?usp=sharing"
      ],
      "execution_count": null,
      "outputs": []
    },
    {
      "cell_type": "markdown",
      "metadata": {
        "id": "FQrqytkg47CI",
        "colab_type": "text"
      },
      "source": [
        "### Programación dinámica"
      ]
    },
    {
      "cell_type": "code",
      "metadata": {
        "id": "K7HjQo5Susmf",
        "colab_type": "code",
        "colab": {}
      },
      "source": [
        "tariffs = [\n",
        "           [0,5,4,3,999,999,999],\n",
        "           [999,0,999,2,3,999,11],\n",
        "           [999,999,0,1,999,4,10],\n",
        "           [999,999,999,0,5,6,9],\n",
        "           [999,999,999,999,0,999,4],\n",
        "           [999,999,999,999,999,0,3],\n",
        "           [999,999,999,999,999,999,0]\n",
        "]"
      ],
      "execution_count": null,
      "outputs": []
    },
    {
      "cell_type": "code",
      "metadata": {
        "id": "VAyREiFnu0tN",
        "colab_type": "code",
        "colab": {}
      },
      "source": [
        "def prices(tariffs):\n",
        "  N = len(tariffs[0])\n",
        "\n",
        "  prices = [[9999]*N for i in [9999]*N]\n",
        "  route = [[\"\"]*N for i in [\"\"]*N]\n",
        "\n",
        "  for i in range(N-1):\n",
        "    for j in range(i+1, N):\n",
        "      MIN = tariffs[i][j]\n",
        "      route[i][j] = i\n",
        "\n",
        "      for k in range(i,j):\n",
        "        if prices[i][k] + tariffs[k][j] < MIN:\n",
        "          MIN = min(MIN, prices[i][k] + tariffs[k][j])\n",
        "          route[i][j] = k\n",
        "        prices[i][j] = MIN\n",
        "\n",
        "  return prices, route"
      ],
      "execution_count": null,
      "outputs": []
    },
    {
      "cell_type": "code",
      "metadata": {
        "id": "S_ugrqUUw7Rr",
        "colab_type": "code",
        "colab": {}
      },
      "source": [
        "price, route = prices(tariffs)"
      ],
      "execution_count": null,
      "outputs": []
    },
    {
      "cell_type": "code",
      "metadata": {
        "id": "Y7uyP637xD-D",
        "colab_type": "code",
        "colab": {
          "base_uri": "https://localhost:8080/",
          "height": 134
        },
        "outputId": "9d79fa43-4bc0-4c27-9895-209439f6d70f"
      },
      "source": [
        "display(route)"
      ],
      "execution_count": null,
      "outputs": [
        {
          "output_type": "display_data",
          "data": {
            "text/plain": [
              "[['', 0, 0, 0, 1, 2, 5],\n",
              " ['', '', 1, 1, 1, 3, 4],\n",
              " ['', '', '', 2, 3, 2, 5],\n",
              " ['', '', '', '', 3, 3, 3],\n",
              " ['', '', '', '', '', 4, 4],\n",
              " ['', '', '', '', '', '', 5],\n",
              " ['', '', '', '', '', '', '']]"
            ]
          },
          "metadata": {
            "tags": []
          }
        }
      ]
    },
    {
      "cell_type": "code",
      "metadata": {
        "id": "ZGgpqRh3xF4X",
        "colab_type": "code",
        "colab": {
          "base_uri": "https://localhost:8080/",
          "height": 69
        },
        "outputId": "d59b1d84-8c03-4b4b-d0e8-53ed5df399b9"
      },
      "source": [
        "def calculate_route(route, origin, destination):\n",
        "  if origin == destination:\n",
        "    return destination\n",
        "  else:\n",
        "    return str(calculate_route(route, origin, route[origin][destination])) + ' , ' + str(route[origin][destination])\n",
        "\n",
        "print(\"\\nLa ruta es:\")\n",
        "calculate_route(route, 0, 6)"
      ],
      "execution_count": null,
      "outputs": [
        {
          "output_type": "stream",
          "text": [
            "\n",
            "La ruta es:\n"
          ],
          "name": "stdout"
        },
        {
          "output_type": "execute_result",
          "data": {
            "application/vnd.google.colaboratory.intrinsic": {
              "type": "string"
            },
            "text/plain": [
              "'0 , 0 , 2 , 5'"
            ]
          },
          "metadata": {
            "tags": []
          },
          "execution_count": 9
        }
      ]
    },
    {
      "cell_type": "markdown",
      "metadata": {
        "id": "X5mzjSos5QZA",
        "colab_type": "text"
      },
      "source": [
        "### Ramificación y Poda"
      ]
    },
    {
      "cell_type": "code",
      "metadata": {
        "id": "9mD_YOnEzJ-P",
        "colab_type": "code",
        "colab": {
          "base_uri": "https://localhost:8080/",
          "height": 34
        },
        "outputId": "70461a11-b432-495f-8c00-ff44017306da"
      },
      "source": [
        "import itertools\n",
        "\n",
        "costs = [\n",
        "         [11,12,18,40],\n",
        "         [14,15,13,22],\n",
        "         [11,17,19,23],\n",
        "         [17,14,20,28]\n",
        "]\n",
        "\n",
        "def value(s,costs):\n",
        "  value = 0\n",
        "  for i in range(len(s)):\n",
        "    value += costs[s[i]][i]\n",
        "  return value\n",
        "\n",
        "def brute_force(costs):\n",
        "\n",
        "  best_value = 10e10\n",
        "  best_solution = ()\n",
        "\n",
        "  for s in list(itertools.permutations(range(len(costs)))):\n",
        "    tmp_value = value(s, costs)\n",
        "    if tmp_value < best_value:\n",
        "      best_value = tmp_value\n",
        "      best_solution = s\n",
        "\n",
        "  print(\"La mejor solución es: \", best_solution, \" con valor: \", best_value)\n",
        "\n",
        "brute_force(costs)"
      ],
      "execution_count": null,
      "outputs": [
        {
          "output_type": "stream",
          "text": [
            "La mejor solución es:  (0, 3, 1, 2)  con valor:  61\n"
          ],
          "name": "stdout"
        }
      ]
    }
  ]
}