{
  "nbformat": 4,
  "nbformat_minor": 0,
  "metadata": {
    "colab": {
      "name": "Plantilla_Seminario_Algoritmos.ipynb",
      "provenance": [],
      "collapsed_sections": [],
      "include_colab_link": true
    },
    "kernelspec": {
      "name": "python3",
      "display_name": "Python 3"
    }
  },
  "cells": [
    {
      "cell_type": "markdown",
      "metadata": {
        "id": "view-in-github",
        "colab_type": "text"
      },
      "source": [
        "<a href=\"https://colab.research.google.com/github/fenikowski/03MAIR--Algoritmos-de-Optimizacion--2020/blob/master/Plantilla_Seminario_Algoritmos.ipynb\" target=\"_parent\"><img src=\"https://colab.research.google.com/assets/colab-badge.svg\" alt=\"Open In Colab\"/></a>"
      ]
    },
    {
      "cell_type": "markdown",
      "metadata": {
        "id": "hVbXYX-RfPWh",
        "colab_type": "text"
      },
      "source": [
        "# Algoritmos de optimización - Seminario<br>\n",
        "Nombre y Apellidos: Igor Fenikowski  <br>\n",
        "Url: https://github.com/fenikowski/03MAIR--Algoritmos-de-Optimizacion--2020/blob/master/Seminario/Plantilla_Seminario_Algoritmos.ipynb<br>\n",
        "Url Colab: https://colab.research.google.com/drive/1gD2QCehUReSlIX9qZIN4GmxLu7Kk25_d?usp=sharing<br>\n",
        "Problema:\n",
        ">2. Organizar los horarios de partidos de La Liga<br>\n",
        "\n",
        "Descripción del problema:\n",
        "\n",
        ">Desde la La Liga de fútbol profesional se pretende organizar los horarios de los partidos de\n",
        "liga de cada jornada. Se conocen algunos datos que nos deben llevar a diseñar un\n",
        "algoritmo que realice la asignación de los partidos a los horarios de forma que maximice la audiencia. <br>\n",
        ">Los horarios disponibles se conocen a priori y son los siguientes: <br>\n",
        "> - Viernes: 20 <br>\n",
        "> - Sábado: 12, 16, 18, 20 <br>\n",
        "> - Domingo: 12, 16, 18, 20 <br>\n",
        "> - Lunes: 20 <br>\n",
        "\n",
        ">En primer lugar se clasifican los equipos en tres categorías según el numero de\n",
        "seguidores( que tiene relación directa con la audiencia). Hay 3 equipos en la\n",
        "categoría A, 11 equipos de categoría B y 6 equipos de categoría C.\n",
        "Se conoce estadisticamente la audiencia que genera cada partido según los equipos que se enfrentan y en horario de sábado a las 20h (el mejor en todos los casos). Si el horario del partido no se realiza a las 20 horas del sábado se sabe que se reduce. Debemos asignar obligatoriamente siempre un partido el viernes y un partido el lunes. Es posible la coincidencia de horarios pero en este caso la audiencia de cada partido se verá afectada y se estima que se reduce en porcentaje.\n",
        "\n",
        "\n",
        "                                "
      ]
    },
    {
      "cell_type": "code",
      "metadata": {
        "id": "AiskKkzZfy4e",
        "colab_type": "code",
        "colab": {}
      },
      "source": [
        "# Importación de librerías necesarias\n",
        "\n",
        "import pandas as pd\n",
        "import copy\n",
        "import random\n",
        "import math\n",
        "from itertools import combinations"
      ],
      "execution_count": 1,
      "outputs": []
    },
    {
      "cell_type": "markdown",
      "metadata": {
        "id": "3_-exlrTgLd-",
        "colab_type": "text"
      },
      "source": [
        "(*)¿Cuantas posibilidades hay sin tener en cuenta las restricciones?<br>\n",
        "\n",
        "\n",
        "\n",
        "¿Cuantas posibilidades hay teniendo en cuenta todas las restricciones.\n",
        "\n",
        "\n"
      ]
    },
    {
      "cell_type": "markdown",
      "metadata": {
        "id": "WfCUqJyKhPcw",
        "colab_type": "text"
      },
      "source": [
        "Respuesta"
      ]
    },
    {
      "cell_type": "code",
      "metadata": {
        "id": "iq6Fe32MgpDX",
        "colab_type": "code",
        "colab": {
          "base_uri": "https://localhost:8080/",
          "height": 35
        },
        "outputId": "de07d223-84fa-4032-a491-fcc9908d265c"
      },
      "source": [
        "# Para cada partido hay 10 posibilidades de asignar una fecha por tanto hay 10 elevado a 10 posibilidades en total.\n",
        "\n",
        "print(10 ** 10)"
      ],
      "execution_count": 2,
      "outputs": [
        {
          "output_type": "stream",
          "text": [
            "10000000000\n"
          ],
          "name": "stdout"
        }
      ]
    },
    {
      "cell_type": "code",
      "metadata": {
        "id": "zM2MUT7W_iPd",
        "colab_type": "code",
        "colab": {}
      },
      "source": [
        "# Ahora teniendo en cuenta las restricciones (de al menos un partido el viernes y el lunes):\n",
        "\n",
        "# Supongamos que A es un evento aleatorio en el cual hay al menos un partido el viernes y el lunes.\n",
        "# Supongamos también que A' es un evento aleatorio en el cual el viernes y el lunes no tienen ningún partido asignado.\n",
        "\n",
        "# Basando se en el teorema de la probabilidad total obtenemos que: "
      ],
      "execution_count": 3,
      "outputs": []
    },
    {
      "cell_type": "markdown",
      "metadata": {
        "id": "4avJ9CljCCCS",
        "colab_type": "text"
      },
      "source": [
        "$$ A + A' = Ω  \\iff A = Ω - A'$$"
      ]
    },
    {
      "cell_type": "code",
      "metadata": {
        "id": "2-CC3C61C8U3",
        "colab_type": "code",
        "colab": {}
      },
      "source": [
        "# Calculemos el evento A'. Siguiendo la misma logica que en el apartado anterior, podemos asignar cada partido a una de las ocho fechas, lo que nos da 10^8 posibilidades.\n",
        "# Teniendo calculadas las posibilidades en eventos A' y Ω, podemos al final avanzar al último paso, que es calcular posibilidades del evento A:"
      ],
      "execution_count": 4,
      "outputs": []
    },
    {
      "cell_type": "markdown",
      "metadata": {
        "id": "aQAQdBrDER3r",
        "colab_type": "text"
      },
      "source": [
        "$$ A = 10^{10} - 10^8 = 10^8 * (10^2 - 1) = 10^8 * 99 $$"
      ]
    },
    {
      "cell_type": "code",
      "metadata": {
        "id": "asUyJB_lEl5W",
        "colab_type": "code",
        "colab": {
          "base_uri": "https://localhost:8080/",
          "height": 35
        },
        "outputId": "9ac6d150-6b93-4b82-92e1-1b9fda64f8f6"
      },
      "source": [
        "print((10 ** 8) * 99)"
      ],
      "execution_count": 5,
      "outputs": [
        {
          "output_type": "stream",
          "text": [
            "9900000000\n"
          ],
          "name": "stdout"
        }
      ]
    },
    {
      "cell_type": "markdown",
      "metadata": {
        "id": "dzynfVJahHoY",
        "colab_type": "text"
      },
      "source": [
        "Modelo para el espacio de soluciones<br>\n",
        "(*) ¿Cual es la estructura de datos que mejor se adapta al problema? Argumentalo.(Es posible que hayas elegido una al principio y veas la necesidad de cambiar, arguentalo)\n"
      ]
    },
    {
      "cell_type": "markdown",
      "metadata": {
        "id": "xFIJrOwKi2Ti",
        "colab_type": "text"
      },
      "source": [
        "Respuesta"
      ]
    },
    {
      "cell_type": "code",
      "metadata": {
        "id": "38c-7-ejhJmA",
        "colab_type": "code",
        "colab": {}
      },
      "source": [
        "# He elegido modelar los datos del problema en varios diccionarios y arrays para poder facilmente aplicar \"penalizaciones\" por coindencia o hora, \n",
        "# tanto como poder conseguir información clara sobre equipos disponibles y calendario creado.\n",
        "\n",
        "# Partidos para los que hay que preparar la jornada:\n",
        "# Para poder manejar bien datos de los partidos, he decido preparar un objeto con información sobre cada uno (equipos y categoría) y meterlos en una lista.\n",
        "# Esto me permitirá facilmente tanto iterar sobre ellos, como quitar partidos con fecha ya asignada.\n",
        "games = [\n",
        "    { \"teams\": \"Real Madrid - Celta\", \"category\": \"AB\"},\n",
        "    { \"teams\": \"R. Sociedad - Valencia\", \"category\": \"AB\"},\n",
        "    { \"teams\": \"Mallorca - Eibar\", \"category\": \"CC\"},\n",
        "    { \"teams\": \"Barcelona - Athletic\", \"category\": \"AB\"},\n",
        "    { \"teams\": \"Leganés - Osasuna\", \"category\": \"CC\"},\n",
        "    { \"teams\": \"Villareal - Granada\", \"category\": \"BC\"},\n",
        "    { \"teams\": \"Alavés - Levante\", \"category\": \"BB\"},\n",
        "    { \"teams\": \"Espanyol - Sevilla\", \"category\": \"BB\"},\n",
        "    { \"teams\": \"Betis - Valladolid\", \"category\": \"BC\"},\n",
        "    { \"teams\": \"Atlético - Getafe\", \"category\": \"BB\"},\n",
        "]\n",
        "\n",
        "# Diccionario con audiencia que generan partidos entre diferentes equipos los sábados a las 20:\n",
        "# (para poder facilmente sacar valor asignado a partido de cada categoría)\n",
        "category_converter = {\"AA\":2, \"AB\":1.3, \"AC\":1, \"BB\":0.9, \"BC\":0.75, \"CC\":0.47}\n",
        "\n",
        "# Lista con penelizaciones por organizar más que un partido a una hora determinada:\n",
        "coincidences = [0, 1, 0.75, 0.55, 0.4, 0.3, 0.25, 0.22, 0.2, 0.2]\n",
        "\n",
        "# He elegido un diccionario para poder ir guardando información sobre la jornada a lo largo de ejecución de algoritmos:\n",
        "# - \"weight\" se refiere a la ponderación asignada a cada hora, \n",
        "# - audiencia total inicializada,\n",
        "# - array de partidos inicializado\n",
        "\n",
        "scheldule = {\n",
        "    \"V20\": { \"games\": [], \"weight\": 0.4, \"audience\": 0 },\n",
        "    \"S12\": { \"games\": [], \"weight\": 0.55, \"audience\": 0 },\n",
        "    \"S16\": { \"games\": [], \"weight\": 0.7, \"audience\": 0 },\n",
        "    \"S18\": { \"games\": [], \"weight\": 0.8, \"audience\": 0 },\n",
        "    \"S20\": { \"games\": [], \"weight\": 1, \"audience\": 0 },\n",
        "    \"D12\": { \"games\": [], \"weight\": 0.45, \"audience\": 0 },\n",
        "    \"D16\": { \"games\": [], \"weight\": 0.75, \"audience\": 0 },\n",
        "    \"D18\": { \"games\": [], \"weight\": 0.5, \"audience\": 0 },\n",
        "    \"D20\": { \"games\": [], \"weight\": 1, \"audience\": 0 },\n",
        "    \"L20\": { \"games\": [], \"weight\": 0.4, \"audience\": 0 }\n",
        "}"
      ],
      "execution_count": 6,
      "outputs": []
    },
    {
      "cell_type": "markdown",
      "metadata": {
        "id": "7Z9U2W7bi-XS",
        "colab_type": "text"
      },
      "source": [
        "Según el modelo para el espacio de soluciones<br>\n",
        "(*)¿Cual es la función objetivo?\n",
        "\n",
        "(*)¿Es un problema de maximización o minimización?"
      ]
    },
    {
      "cell_type": "markdown",
      "metadata": {
        "id": "hBalWLM7j1_d",
        "colab_type": "text"
      },
      "source": [
        "Respuesta"
      ]
    },
    {
      "cell_type": "code",
      "metadata": {
        "id": "s28ypen4SJHi",
        "colab_type": "code",
        "colab": {}
      },
      "source": [
        "# Para calcular la audiencia para un partido hay que multiplicar la audiencia que éste genera el sabado a las 20 por ponderación de la fecha que le asignamos\n",
        "# y penalización por coincidencia de partidos. La funcion objetivo podemos presentar por tanto como una suma de mencionado calculo ejecutado \n",
        "# para cada uno de los 10 partidos donde:\n",
        "#\n",
        "#   x - un partido\n",
        "#   p - ponderación de la fecha elegida\n",
        "#   c - penalizacion por coincidencia\n",
        "#"
      ],
      "execution_count": 7,
      "outputs": []
    },
    {
      "cell_type": "markdown",
      "metadata": {
        "id": "6HjDBrDPSSPw",
        "colab_type": "text"
      },
      "source": [
        "$$ Max! = \\sum\\limits_{i=1}^{10} x_i * p * c $$"
      ]
    },
    {
      "cell_type": "code",
      "metadata": {
        "id": "BZx9UWrBWonk",
        "colab_type": "code",
        "colab": {}
      },
      "source": [
        "# Como se trata de obtener la jornada con mayor número de audiencia para 10 partidos jugados entre 20 equipos, es un problema de maximización."
      ],
      "execution_count": 8,
      "outputs": []
    },
    {
      "cell_type": "markdown",
      "metadata": {
        "id": "rlnTYgY1j6I2",
        "colab_type": "text"
      },
      "source": [
        "Diseña un algoritmo para resolver el problema por fuerza bruta"
      ]
    },
    {
      "cell_type": "markdown",
      "metadata": {
        "id": "70rDgxYXkC8r",
        "colab_type": "text"
      },
      "source": [
        "Respuesta"
      ]
    },
    {
      "cell_type": "code",
      "metadata": {
        "id": "CJb5sQ0qkENy",
        "colab_type": "code",
        "colab": {}
      },
      "source": [
        "# FUNCIONES AUXILIARES\n",
        "\n",
        "# funcion que calcula la diferencia en audiencia (positiva o negativa) de jugar una partida hipotetica\n",
        "\n",
        "def count_audience_difference(date, game, scheldule):\n",
        "  games_audience = category_converter[game[\"category\"]]\n",
        "  new_audience = 0\n",
        "\n",
        "  for game in scheldule[date][\"games\"]:\n",
        "    games_audience += category_converter[game[\"category\"]]\n",
        "\n",
        "  new_audience = scheldule[date][\"weight\"] * coincidences[len(scheldule[date][\"games\"]) + 1] * games_audience\n",
        "\n",
        "  return new_audience - scheldule[date][\"audience\"], new_audience\n",
        "\n",
        "\n",
        "\n",
        "# funcion que sirve para crear una partida en el calendario:\n",
        "\n",
        "def create_game(date, game, new_audience, scheldule):\n",
        "  reference_scheldule = copy.deepcopy(scheldule)\n",
        "\n",
        "  reference_scheldule[date][\"games\"].append(game)\n",
        "  reference_scheldule[date][\"audience\"] = new_audience\n",
        "  return reference_scheldule\n",
        "\n",
        "\n",
        "# funcion que transforma el calendario en una lista, para poder facilmente crear un DataFrame\n",
        "\n",
        "def transform_scheldule(data):\n",
        "  result = []\n",
        "  for date, values in data.items():\n",
        "    for game in values[\"games\"]:\n",
        "      result.append({ \n",
        "          \"Fecha\": date, \n",
        "          \"Partido\": game[\"teams\"], \n",
        "          \"Category\": game[\"category\"][0] + \" - \" + game[\"category\"][1], \n",
        "          \"Base\": category_converter[game[\"category\"]],\n",
        "          \"Ponderación\": values[\"weight\"],\n",
        "          \"Base * Ponderación\": category_converter[game[\"category\"]] * values[\"weight\"],\n",
        "          \"Correción coincidencia\": round(values[\"weight\"] * category_converter[game[\"category\"]] * coincidences[len(values[\"games\"])],2) \n",
        "          })\n",
        "  return result"
      ],
      "execution_count": 9,
      "outputs": []
    },
    {
      "cell_type": "code",
      "metadata": {
        "id": "JszgpxarlWd7",
        "colab_type": "code",
        "colab": {}
      },
      "source": [
        "# Ya que la complejidad de algoritmo por fuerza bruta es muy alta, el calculo para propuestos datos de entrada es muy largo\n",
        "# y no es posible obtener ningún resultado en tiempo razonable. Por tanto para testearlo y demostrar que si que podría conseguir buenos resultados,\n",
        "# me he permitido reducir el número de partidos de la entrada (solo en este caso) a 6 partidos.\n",
        "\n",
        "games = [\n",
        "    { \"teams\": \"Real Madrid - Celta\", \"category\": \"AB\"},\n",
        "    { \"teams\": \"R. Sociedad - Celta\", \"category\": \"AB\"},\n",
        "    { \"teams\": \"Mallorca - Eibar\", \"category\": \"CC\"},\n",
        "    { \"teams\": \"Barcelona - Athletic\", \"category\": \"AB\"},\n",
        "    { \"teams\": \"Leganés - Osasuna\", \"category\": \"CC\"},\n",
        "    { \"teams\": \"Villareal - Granada\", \"category\": \"BC\"}\n",
        "]"
      ],
      "execution_count": 10,
      "outputs": []
    },
    {
      "cell_type": "code",
      "metadata": {
        "id": "APSrwpGiil5N",
        "colab_type": "code",
        "colab": {
          "base_uri": "https://localhost:8080/",
          "height": 52
        },
        "outputId": "01de6320-40e5-44ab-f42f-5e4115f402a8"
      },
      "source": [
        "# ALGORITMO POR FUERZA BRUTA\n",
        "\n",
        "%%time\n",
        "\n",
        "global_total_audience = 0\n",
        "global_scheldule = {}\n",
        "\n",
        "def brute_force(scheldule, games, total_audience = 0):\n",
        "  global global_total_audience\n",
        "  global global_scheldule\n",
        "\n",
        "  # inicialización de variables\n",
        "  reference_scheldule = scheldule.copy()\n",
        "  reference_games = games.copy()\n",
        "  reference_audience = total_audience\n",
        "\n",
        "  # se saca un partido de la lista eliminandolo para que no se tome en cuenta en proximas iteraciones\n",
        "  game = reference_games.pop(0)\n",
        "\n",
        "  for date in reference_scheldule.keys():\n",
        "    new_reference_scheldule = reference_scheldule.copy()\n",
        "    new_reference_audience = reference_audience\n",
        "    new_reference_games = reference_games.copy()\n",
        "    \n",
        "    # se calucula diferencia en audiencia proporcionada por nuevo partido\n",
        "    new_difference, new_audience = count_audience_difference(date, game, reference_scheldule) \n",
        "    new_game = { \"date\": date, \"game\": game, \"new_audience\": new_audience }\n",
        "\n",
        "    # los datos del nuevo partido se guardan en el calendario\n",
        "    new_reference_scheldule = create_game(new_game[\"date\"], new_game[\"game\"], new_game[\"new_audience\"], reference_scheldule)\n",
        "    new_reference_audience += new_difference\n",
        "    \n",
        "    # si no hay mas partidos para asignar al calendario, el algoritmo se para y valora el resultado\n",
        "    if len(new_reference_games) > 0:\n",
        "      brute_force(new_reference_scheldule, new_reference_games, new_reference_audience)\n",
        "\n",
        "    else:\n",
        "      # si el resultado es mejor y hay partidos asignados el viernes y el lunes, se sobrescribe el calendario global, cual se devuelve al final del algoritmo\n",
        "      if new_reference_audience > global_total_audience and len(new_reference_scheldule[\"L20\"][\"games\"]) > 0 and len(new_reference_scheldule[\"V20\"][\"games\"]) > 0:\n",
        "        global_total_audience = new_reference_audience\n",
        "        global_scheldule = new_reference_scheldule\n",
        "\n",
        "\n",
        "brute_force(scheldule, games)"
      ],
      "execution_count": 11,
      "outputs": [
        {
          "output_type": "stream",
          "text": [
            "CPU times: user 1min 38s, sys: 18.5 ms, total: 1min 38s\n",
            "Wall time: 1min 38s\n"
          ],
          "name": "stdout"
        }
      ]
    },
    {
      "cell_type": "code",
      "metadata": {
        "id": "OcALPdb-mbzB",
        "colab_type": "code",
        "colab": {
          "base_uri": "https://localhost:8080/",
          "height": 270
        },
        "outputId": "fcfdb33e-a3fa-43b2-d8a6-a2e9e1db69f3"
      },
      "source": [
        "frame = transform_scheldule(global_scheldule)\n",
        "df = pd.DataFrame(frame)\n",
        "df = df.append({\"Fecha\": \"\", \"Partido\": \"\", \"Category\": \"\", \"Base\": \"\", \"Ponderación\": \"\", \"Base * Ponderación\": \"\", \"Correción coincidencia\": df[\"Correción coincidencia\"].sum()}, ignore_index=True)\n",
        "df.fillna('',inplace=True)\n",
        "display(df)\n",
        "print(\"La audiencia total del calendario generado es igual a:\", '\\033[1m' + str(round(global_total_audience,2)) + '\\033[0m', \"milliones de personas.\")"
      ],
      "execution_count": 12,
      "outputs": [
        {
          "output_type": "display_data",
          "data": {
            "text/html": [
              "<div>\n",
              "<style scoped>\n",
              "    .dataframe tbody tr th:only-of-type {\n",
              "        vertical-align: middle;\n",
              "    }\n",
              "\n",
              "    .dataframe tbody tr th {\n",
              "        vertical-align: top;\n",
              "    }\n",
              "\n",
              "    .dataframe thead th {\n",
              "        text-align: right;\n",
              "    }\n",
              "</style>\n",
              "<table border=\"1\" class=\"dataframe\">\n",
              "  <thead>\n",
              "    <tr style=\"text-align: right;\">\n",
              "      <th></th>\n",
              "      <th>Fecha</th>\n",
              "      <th>Partido</th>\n",
              "      <th>Category</th>\n",
              "      <th>Base</th>\n",
              "      <th>Ponderación</th>\n",
              "      <th>Base * Ponderación</th>\n",
              "      <th>Correción coincidencia</th>\n",
              "    </tr>\n",
              "  </thead>\n",
              "  <tbody>\n",
              "    <tr>\n",
              "      <th>0</th>\n",
              "      <td>V20</td>\n",
              "      <td>Mallorca - Eibar</td>\n",
              "      <td>C - C</td>\n",
              "      <td>0.47</td>\n",
              "      <td>0.4</td>\n",
              "      <td>0.188</td>\n",
              "      <td>0.19</td>\n",
              "    </tr>\n",
              "    <tr>\n",
              "      <th>1</th>\n",
              "      <td>S18</td>\n",
              "      <td>Real Madrid - Celta</td>\n",
              "      <td>A - B</td>\n",
              "      <td>1.3</td>\n",
              "      <td>0.8</td>\n",
              "      <td>1.04</td>\n",
              "      <td>1.04</td>\n",
              "    </tr>\n",
              "    <tr>\n",
              "      <th>2</th>\n",
              "      <td>S20</td>\n",
              "      <td>R. Sociedad - Celta</td>\n",
              "      <td>A - B</td>\n",
              "      <td>1.3</td>\n",
              "      <td>1</td>\n",
              "      <td>1.3</td>\n",
              "      <td>1.30</td>\n",
              "    </tr>\n",
              "    <tr>\n",
              "      <th>3</th>\n",
              "      <td>D16</td>\n",
              "      <td>Villareal - Granada</td>\n",
              "      <td>B - C</td>\n",
              "      <td>0.75</td>\n",
              "      <td>0.75</td>\n",
              "      <td>0.5625</td>\n",
              "      <td>0.56</td>\n",
              "    </tr>\n",
              "    <tr>\n",
              "      <th>4</th>\n",
              "      <td>D20</td>\n",
              "      <td>Barcelona - Athletic</td>\n",
              "      <td>A - B</td>\n",
              "      <td>1.3</td>\n",
              "      <td>1</td>\n",
              "      <td>1.3</td>\n",
              "      <td>1.30</td>\n",
              "    </tr>\n",
              "    <tr>\n",
              "      <th>5</th>\n",
              "      <td>L20</td>\n",
              "      <td>Leganés - Osasuna</td>\n",
              "      <td>C - C</td>\n",
              "      <td>0.47</td>\n",
              "      <td>0.4</td>\n",
              "      <td>0.188</td>\n",
              "      <td>0.19</td>\n",
              "    </tr>\n",
              "    <tr>\n",
              "      <th>6</th>\n",
              "      <td></td>\n",
              "      <td></td>\n",
              "      <td></td>\n",
              "      <td></td>\n",
              "      <td></td>\n",
              "      <td></td>\n",
              "      <td>4.58</td>\n",
              "    </tr>\n",
              "  </tbody>\n",
              "</table>\n",
              "</div>"
            ],
            "text/plain": [
              "  Fecha               Partido  ... Base * Ponderación Correción coincidencia\n",
              "0   V20      Mallorca - Eibar  ...              0.188                   0.19\n",
              "1   S18   Real Madrid - Celta  ...               1.04                   1.04\n",
              "2   S20   R. Sociedad - Celta  ...                1.3                   1.30\n",
              "3   D16   Villareal - Granada  ...             0.5625                   0.56\n",
              "4   D20  Barcelona - Athletic  ...                1.3                   1.30\n",
              "5   L20     Leganés - Osasuna  ...              0.188                   0.19\n",
              "6                              ...                                      4.58\n",
              "\n",
              "[7 rows x 7 columns]"
            ]
          },
          "metadata": {
            "tags": []
          }
        },
        {
          "output_type": "stream",
          "text": [
            "La audiencia total del calendario generado es igual a: \u001b[1m4.58\u001b[0m milliones de personas.\n"
          ],
          "name": "stdout"
        }
      ]
    },
    {
      "cell_type": "markdown",
      "metadata": {
        "id": "tgrnsC2nkFa8",
        "colab_type": "text"
      },
      "source": [
        "Calcula la complejidad del algoritmo por fuerza bruta"
      ]
    },
    {
      "cell_type": "markdown",
      "metadata": {
        "id": "9eUd3xwckP68",
        "colab_type": "text"
      },
      "source": [
        "Respuesta"
      ]
    },
    {
      "cell_type": "code",
      "metadata": {
        "id": "rvZWwL-ckRST",
        "colab_type": "code",
        "colab": {}
      },
      "source": [
        "# Mi algoritmo por fuerza bruta se basa en recursividad, con cada partido por jugar, el número de operaciones crece exponencialmente.\n",
        "# Al principio el algoritmo hace un bucle para meter el partido en cada fecha posible, y después de conseguirlo, se ejecuta otra vez para siguiente partido con la misma intención.\n",
        "# La ejecución se repite haste que cada partido tenga una fecha asignada. Por tanto, si hay 2 equipos, habrá 10^2 operaciones.\n",
        "# Si habrá 3 equipos, el número crecerá a 10^3. De dichos calculos se concluye que la complejidad del algoritmo de fuerza bruta es de orden exponencial."
      ],
      "execution_count": 13,
      "outputs": []
    },
    {
      "cell_type": "markdown",
      "metadata": {
        "id": "txbrmLmskReM",
        "colab_type": "text"
      },
      "source": [
        "(*)Diseña un algoritmo que mejore la complejidad del algortimo por fuerza bruta. Argumenta porque crees que mejora el algoritmo por fuerza bruta"
      ]
    },
    {
      "cell_type": "markdown",
      "metadata": {
        "id": "hLrVwt5QkZPD",
        "colab_type": "text"
      },
      "source": [
        "Respuesta"
      ]
    },
    {
      "cell_type": "code",
      "metadata": {
        "id": "Wxt8a-eLrO2b",
        "colab_type": "code",
        "colab": {}
      },
      "source": [
        "# Para volver a problema original, inicializo otra vez el número de partidos, que anteriormente simplifiqué para testear el algoritmo de fuerza bruta.\n",
        "games = [\n",
        "    { \"teams\": \"Real Madrid - Celta\", \"category\": \"AB\"},\n",
        "    { \"teams\": \"R. Sociedad - Valencia\", \"category\": \"AB\"},\n",
        "    { \"teams\": \"Mallorca - Eibar\", \"category\": \"CC\"},\n",
        "    { \"teams\": \"Barcelona - Athletic\", \"category\": \"AB\"},\n",
        "    { \"teams\": \"Leganés - Osasuna\", \"category\": \"CC\"},\n",
        "    { \"teams\": \"Villareal - Granada\", \"category\": \"BC\"},\n",
        "    { \"teams\": \"Alavés - Levante\", \"category\": \"BB\"},\n",
        "    { \"teams\": \"Espanyol - Sevilla\", \"category\": \"BB\"},\n",
        "    { \"teams\": \"Betis - Valladolid\", \"category\": \"BC\"},\n",
        "    { \"teams\": \"Atlético - Getafe\", \"category\": \"BB\"},\n",
        "]"
      ],
      "execution_count": 14,
      "outputs": []
    },
    {
      "cell_type": "code",
      "metadata": {
        "id": "_orbanP0tNoS",
        "colab_type": "code",
        "colab": {}
      },
      "source": [
        "# Mi candidato para dar una solución buena en tiempo limitado es un algoritmo voraz. Un algoritmo voraz se basa en obtener la solución optima en cada paso con la esperanza\n",
        "# de llegar a una solución general óptima. En este problema, un algoritmo voraz notablemente accelera el calcúlo y permite sacar un resultado bueno en tiempo razonable."
      ],
      "execution_count": 15,
      "outputs": []
    },
    {
      "cell_type": "code",
      "metadata": {
        "id": "m1eyM21Vkabg",
        "colab_type": "code",
        "colab": {
          "base_uri": "https://localhost:8080/",
          "height": 52
        },
        "outputId": "8df7d801-437d-4389-8c4b-d31a8cc38f6c"
      },
      "source": [
        "# ALGORITMO VORAZ\n",
        "\n",
        "%%time\n",
        "\n",
        "def greedy_algorithm(scheldule, games):\n",
        "\n",
        "  # inicialización de variables\n",
        "  reference_scheldule = copy.deepcopy(scheldule)\n",
        "  reference_games = copy.deepcopy(games)\n",
        "  total_audience = 0\n",
        "\n",
        "  # un bucle para iterar sobre número total de partidas por jugar\n",
        "  for index, game in enumerate(reference_games):\n",
        "\n",
        "    refference_difference = -999\n",
        "    new_game = {}\n",
        "\n",
        "    # condición que permite asegurarse de que lunes y viernes tienen un partido asignado\n",
        "    if index == len(games) and len(reference_scheldule[\"V20\"][\"games\"]):\n",
        "      new_difference, new_audience = count_audience_difference(\"V20\", game, reference_scheldule) \n",
        "\n",
        "      refference_difference = new_difference\n",
        "      new_game = { \"date\": \"V20\", \"game\": game, \"new_audience\": new_audience }\n",
        "\n",
        "\n",
        "    elif index == len(games) + 1 and len(reference_scheldule[\"L20\"][\"games\"]):\n",
        "      new_difference, new_audience = count_audience_difference(\"L20\", game, reference_scheldule) \n",
        "\n",
        "      refference_difference = new_difference\n",
        "      new_game = { \"date\": \"L20\", \"game\": game, \"new_audience\": new_audience }\n",
        "\n",
        "\n",
        "    else:\n",
        "      # un bucle para iterar por todas las fechas disponibles\n",
        "      for date in reference_scheldule.keys():\n",
        "\n",
        "        # para cada fecha se calcula la diferencia en audiencia en caso de crear una partida, \n",
        "        # teniendo en cuenta audiencia de la fecha, penalización por coincidencia para todas partidas de la fecha y audiencia por categoría de la partida\n",
        "        # (la diferencia puede tener valor negativo)\n",
        "\n",
        "        new_difference, new_audience = count_audience_difference(date, game, reference_scheldule) \n",
        "\n",
        "        # si la diferencia es mayor que la de referencia, se guarda el nuevo valor de diferencia y detalles del partido\n",
        "        if(new_difference > refference_difference):\n",
        "          refference_difference = new_difference\n",
        "          new_game = { \"date\": date, \"game\": game, \"new_audience\": new_audience }\n",
        "\n",
        "    # al final del bucle se crea el partido que atrae el mayor número de aficionados y se guarda la nueva audiencia total\n",
        "    reference_scheldule = create_game(new_game[\"date\"], new_game[\"game\"], new_game[\"new_audience\"], reference_scheldule)\n",
        "    total_audience += refference_difference\n",
        "\n",
        "  return total_audience, reference_scheldule\n",
        "\n",
        "\n",
        "total_audience, created_scheldule = greedy_algorithm(scheldule, games)"
      ],
      "execution_count": 16,
      "outputs": [
        {
          "output_type": "stream",
          "text": [
            "CPU times: user 454 µs, sys: 1.18 ms, total: 1.64 ms\n",
            "Wall time: 1.51 ms\n"
          ],
          "name": "stdout"
        }
      ]
    },
    {
      "cell_type": "code",
      "metadata": {
        "id": "mjkwbTIKsGRz",
        "colab_type": "code",
        "colab": {
          "base_uri": "https://localhost:8080/",
          "height": 388
        },
        "outputId": "e7a4f112-6499-4927-d16d-74305c9103eb"
      },
      "source": [
        "frame = transform_scheldule(created_scheldule)\n",
        "df = pd.DataFrame(frame)\n",
        "df = df.append({\"Fecha\": \"\", \"Partido\": \"\", \"Category\": \"\", \"Base\": \"\", \"Ponderación\": \"\", \"Base * Ponderación\": \"\", \"Correción coincidencia\": df[\"Correción coincidencia\"].sum()}, ignore_index=True)\n",
        "df.fillna('',inplace=True)\n",
        "display(df)\n",
        "print(\"La audiencia total del calendario generado es igual a:\", '\\033[1m' + str(round(total_audience,2)) + '\\033[0m', \"milliones de personas.\")"
      ],
      "execution_count": 17,
      "outputs": [
        {
          "output_type": "display_data",
          "data": {
            "text/html": [
              "<div>\n",
              "<style scoped>\n",
              "    .dataframe tbody tr th:only-of-type {\n",
              "        vertical-align: middle;\n",
              "    }\n",
              "\n",
              "    .dataframe tbody tr th {\n",
              "        vertical-align: top;\n",
              "    }\n",
              "\n",
              "    .dataframe thead th {\n",
              "        text-align: right;\n",
              "    }\n",
              "</style>\n",
              "<table border=\"1\" class=\"dataframe\">\n",
              "  <thead>\n",
              "    <tr style=\"text-align: right;\">\n",
              "      <th></th>\n",
              "      <th>Fecha</th>\n",
              "      <th>Partido</th>\n",
              "      <th>Category</th>\n",
              "      <th>Base</th>\n",
              "      <th>Ponderación</th>\n",
              "      <th>Base * Ponderación</th>\n",
              "      <th>Correción coincidencia</th>\n",
              "    </tr>\n",
              "  </thead>\n",
              "  <tbody>\n",
              "    <tr>\n",
              "      <th>0</th>\n",
              "      <td>S12</td>\n",
              "      <td>Villareal - Granada</td>\n",
              "      <td>B - C</td>\n",
              "      <td>0.75</td>\n",
              "      <td>0.55</td>\n",
              "      <td>0.4125</td>\n",
              "      <td>0.41</td>\n",
              "    </tr>\n",
              "    <tr>\n",
              "      <th>1</th>\n",
              "      <td>S16</td>\n",
              "      <td>Leganés - Osasuna</td>\n",
              "      <td>C - C</td>\n",
              "      <td>0.47</td>\n",
              "      <td>0.7</td>\n",
              "      <td>0.329</td>\n",
              "      <td>0.25</td>\n",
              "    </tr>\n",
              "    <tr>\n",
              "      <th>2</th>\n",
              "      <td>S16</td>\n",
              "      <td>Atlético - Getafe</td>\n",
              "      <td>B - B</td>\n",
              "      <td>0.9</td>\n",
              "      <td>0.7</td>\n",
              "      <td>0.63</td>\n",
              "      <td>0.47</td>\n",
              "    </tr>\n",
              "    <tr>\n",
              "      <th>3</th>\n",
              "      <td>S18</td>\n",
              "      <td>Mallorca - Eibar</td>\n",
              "      <td>C - C</td>\n",
              "      <td>0.47</td>\n",
              "      <td>0.8</td>\n",
              "      <td>0.376</td>\n",
              "      <td>0.28</td>\n",
              "    </tr>\n",
              "    <tr>\n",
              "      <th>4</th>\n",
              "      <td>S18</td>\n",
              "      <td>Espanyol - Sevilla</td>\n",
              "      <td>B - B</td>\n",
              "      <td>0.9</td>\n",
              "      <td>0.8</td>\n",
              "      <td>0.72</td>\n",
              "      <td>0.54</td>\n",
              "    </tr>\n",
              "    <tr>\n",
              "      <th>5</th>\n",
              "      <td>S20</td>\n",
              "      <td>Real Madrid - Celta</td>\n",
              "      <td>A - B</td>\n",
              "      <td>1.3</td>\n",
              "      <td>1</td>\n",
              "      <td>1.3</td>\n",
              "      <td>1.30</td>\n",
              "    </tr>\n",
              "    <tr>\n",
              "      <th>6</th>\n",
              "      <td>D12</td>\n",
              "      <td>Betis - Valladolid</td>\n",
              "      <td>B - C</td>\n",
              "      <td>0.75</td>\n",
              "      <td>0.45</td>\n",
              "      <td>0.3375</td>\n",
              "      <td>0.34</td>\n",
              "    </tr>\n",
              "    <tr>\n",
              "      <th>7</th>\n",
              "      <td>D16</td>\n",
              "      <td>Barcelona - Athletic</td>\n",
              "      <td>A - B</td>\n",
              "      <td>1.3</td>\n",
              "      <td>0.75</td>\n",
              "      <td>0.975</td>\n",
              "      <td>0.98</td>\n",
              "    </tr>\n",
              "    <tr>\n",
              "      <th>8</th>\n",
              "      <td>D18</td>\n",
              "      <td>Alavés - Levante</td>\n",
              "      <td>B - B</td>\n",
              "      <td>0.9</td>\n",
              "      <td>0.5</td>\n",
              "      <td>0.45</td>\n",
              "      <td>0.45</td>\n",
              "    </tr>\n",
              "    <tr>\n",
              "      <th>9</th>\n",
              "      <td>D20</td>\n",
              "      <td>R. Sociedad - Valencia</td>\n",
              "      <td>A - B</td>\n",
              "      <td>1.3</td>\n",
              "      <td>1</td>\n",
              "      <td>1.3</td>\n",
              "      <td>1.30</td>\n",
              "    </tr>\n",
              "    <tr>\n",
              "      <th>10</th>\n",
              "      <td></td>\n",
              "      <td></td>\n",
              "      <td></td>\n",
              "      <td></td>\n",
              "      <td></td>\n",
              "      <td></td>\n",
              "      <td>6.32</td>\n",
              "    </tr>\n",
              "  </tbody>\n",
              "</table>\n",
              "</div>"
            ],
            "text/plain": [
              "   Fecha                 Partido  ... Base * Ponderación Correción coincidencia\n",
              "0    S12     Villareal - Granada  ...             0.4125                   0.41\n",
              "1    S16       Leganés - Osasuna  ...              0.329                   0.25\n",
              "2    S16       Atlético - Getafe  ...               0.63                   0.47\n",
              "3    S18        Mallorca - Eibar  ...              0.376                   0.28\n",
              "4    S18      Espanyol - Sevilla  ...               0.72                   0.54\n",
              "5    S20     Real Madrid - Celta  ...                1.3                   1.30\n",
              "6    D12      Betis - Valladolid  ...             0.3375                   0.34\n",
              "7    D16    Barcelona - Athletic  ...              0.975                   0.98\n",
              "8    D18        Alavés - Levante  ...               0.45                   0.45\n",
              "9    D20  R. Sociedad - Valencia  ...                1.3                   1.30\n",
              "10                                ...                                      6.32\n",
              "\n",
              "[11 rows x 7 columns]"
            ]
          },
          "metadata": {
            "tags": []
          }
        },
        {
          "output_type": "stream",
          "text": [
            "La audiencia total del calendario generado es igual a: \u001b[1m6.32\u001b[0m milliones de personas.\n"
          ],
          "name": "stdout"
        }
      ]
    },
    {
      "cell_type": "markdown",
      "metadata": {
        "id": "eGDB4K6uk1iN",
        "colab_type": "text"
      },
      "source": [
        "(*)Calcula la complejidad del algoritmo "
      ]
    },
    {
      "cell_type": "markdown",
      "metadata": {
        "id": "NhpTh_BPk1ms",
        "colab_type": "text"
      },
      "source": [
        "Respuesta"
      ]
    },
    {
      "cell_type": "code",
      "metadata": {
        "id": "nREzhkStlCq8",
        "colab_type": "code",
        "colab": {}
      },
      "source": [
        "# Primero el algoritmo ejecuta un bucle por cada partido que se desea poner en la jornada. Lo siguiente es ejecutar un bucle por todas las fechas posibles (para cada partido).\n",
        "# Entonces para dar un ejemplo, si hay que asignarles fechas a dos partidos, el algoritmo hará un bucle por cada uno (2) para luego ejecutar en todos dos casos otro bucle por fechas (10),\n",
        "# que resulta en darnos 2 * 10 operaciones. Siguiendo la misma logica, para tres equipos obtendremos 3 * 10, y para cuatro 4 * 10. Esto quiere decir que la complejidad de algoritmo,\n",
        "# es de orden lineal, ya que por cada partido más al número de operaciones total se añaden 10 operaciones más."
      ],
      "execution_count": 18,
      "outputs": []
    },
    {
      "cell_type": "markdown",
      "metadata": {
        "id": "3M6QjTsSkmYe",
        "colab_type": "text"
      },
      "source": [
        "Según el problema (y tenga sentido), diseña un juego de datos de entrada aleatorios"
      ]
    },
    {
      "cell_type": "markdown",
      "metadata": {
        "id": "Jc3_OlyNkvjZ",
        "colab_type": "text"
      },
      "source": [
        "Respuesta"
      ]
    },
    {
      "cell_type": "code",
      "metadata": {
        "id": "sJ-N2etjkyWc",
        "colab_type": "code",
        "colab": {
          "base_uri": "https://localhost:8080/",
          "height": 340
        },
        "outputId": "83e385fa-741d-49a7-fee3-fa210c2d0bfc"
      },
      "source": [
        "# Lista con equipos disponibles\n",
        "teams = [\n",
        "         { \"name\": \"Real Madrid\", \"category\": \"A\"},\n",
        "         { \"name\": \"Barcelona\", \"category\": \"A\"},\n",
        "         { \"name\": \"R. Sociedad\", \"category\": \"A\"},\n",
        "         { \"name\": \"Atlético\", \"category\": \"B\"},\n",
        "         { \"name\": \"Getafe\", \"category\": \"B\"},\n",
        "         { \"name\": \"Espanyol\", \"category\": \"B\"},\n",
        "         { \"name\": \"Sevilla\", \"category\": \"B\"},\n",
        "         { \"name\": \"Athletic\", \"category\": \"B\"},\n",
        "         { \"name\": \"Celta\", \"category\": \"B\"},\n",
        "         { \"name\": \"Valencia\", \"category\": \"B\"},\n",
        "         { \"name\": \"Betis\", \"category\": \"B\"},\n",
        "         { \"name\": \"Alavés\", \"category\": \"B\"},\n",
        "         { \"name\": \"Levante\", \"category\": \"B\"},\n",
        "         { \"name\": \"Villareal\", \"category\": \"B\"},\n",
        "         { \"name\": \"Granada\", \"category\": \"C\"},\n",
        "         { \"name\": \"Valladolid\", \"category\": \"C\"},\n",
        "         { \"name\": \"Osasuna\", \"category\": \"C\"},\n",
        "         { \"name\": \"Leganés\", \"category\": \"C\"},\n",
        "         { \"name\": \"Mallorca\", \"category\": \"C\"},\n",
        "         { \"name\": \"Eibar\", \"category\": \"C\"}\n",
        "]\n",
        "\n",
        "# Funcion para sacar 10 partidos entre equipos proporcionados\n",
        "def create_games(teams):\n",
        "  games = []\n",
        "  random.shuffle(teams)\n",
        "  pairs = [teams[i::10] for i in range(10)]\n",
        "  for pair in pairs:\n",
        "    game = pair[0][\"name\"] + ' - ' + pair[1][\"name\"]\n",
        "    categories = [pair[0][\"category\"], pair[1][\"category\"]]\n",
        "    categories.sort()\n",
        "    category = categories[0] + categories[1]\n",
        "    games.append({ \"teams\": game, \"category\": category })\n",
        "\n",
        "  return games\n",
        "\n",
        "games = create_games(teams)\n",
        "df = pd.DataFrame(games)\n",
        "display(df)"
      ],
      "execution_count": 19,
      "outputs": [
        {
          "output_type": "display_data",
          "data": {
            "text/html": [
              "<div>\n",
              "<style scoped>\n",
              "    .dataframe tbody tr th:only-of-type {\n",
              "        vertical-align: middle;\n",
              "    }\n",
              "\n",
              "    .dataframe tbody tr th {\n",
              "        vertical-align: top;\n",
              "    }\n",
              "\n",
              "    .dataframe thead th {\n",
              "        text-align: right;\n",
              "    }\n",
              "</style>\n",
              "<table border=\"1\" class=\"dataframe\">\n",
              "  <thead>\n",
              "    <tr style=\"text-align: right;\">\n",
              "      <th></th>\n",
              "      <th>teams</th>\n",
              "      <th>category</th>\n",
              "    </tr>\n",
              "  </thead>\n",
              "  <tbody>\n",
              "    <tr>\n",
              "      <th>0</th>\n",
              "      <td>Betis - Celta</td>\n",
              "      <td>BB</td>\n",
              "    </tr>\n",
              "    <tr>\n",
              "      <th>1</th>\n",
              "      <td>Athletic - Levante</td>\n",
              "      <td>BB</td>\n",
              "    </tr>\n",
              "    <tr>\n",
              "      <th>2</th>\n",
              "      <td>Valencia - Alavés</td>\n",
              "      <td>BB</td>\n",
              "    </tr>\n",
              "    <tr>\n",
              "      <th>3</th>\n",
              "      <td>Barcelona - R. Sociedad</td>\n",
              "      <td>AA</td>\n",
              "    </tr>\n",
              "    <tr>\n",
              "      <th>4</th>\n",
              "      <td>Mallorca - Real Madrid</td>\n",
              "      <td>AC</td>\n",
              "    </tr>\n",
              "    <tr>\n",
              "      <th>5</th>\n",
              "      <td>Eibar - Sevilla</td>\n",
              "      <td>BC</td>\n",
              "    </tr>\n",
              "    <tr>\n",
              "      <th>6</th>\n",
              "      <td>Espanyol - Villareal</td>\n",
              "      <td>BB</td>\n",
              "    </tr>\n",
              "    <tr>\n",
              "      <th>7</th>\n",
              "      <td>Valladolid - Granada</td>\n",
              "      <td>CC</td>\n",
              "    </tr>\n",
              "    <tr>\n",
              "      <th>8</th>\n",
              "      <td>Atlético - Getafe</td>\n",
              "      <td>BB</td>\n",
              "    </tr>\n",
              "    <tr>\n",
              "      <th>9</th>\n",
              "      <td>Osasuna - Leganés</td>\n",
              "      <td>CC</td>\n",
              "    </tr>\n",
              "  </tbody>\n",
              "</table>\n",
              "</div>"
            ],
            "text/plain": [
              "                     teams category\n",
              "0            Betis - Celta       BB\n",
              "1       Athletic - Levante       BB\n",
              "2        Valencia - Alavés       BB\n",
              "3  Barcelona - R. Sociedad       AA\n",
              "4   Mallorca - Real Madrid       AC\n",
              "5          Eibar - Sevilla       BC\n",
              "6     Espanyol - Villareal       BB\n",
              "7     Valladolid - Granada       CC\n",
              "8        Atlético - Getafe       BB\n",
              "9        Osasuna - Leganés       CC"
            ]
          },
          "metadata": {
            "tags": []
          }
        }
      ]
    },
    {
      "cell_type": "markdown",
      "metadata": {
        "id": "zy5ZROmjlGo1",
        "colab_type": "text"
      },
      "source": [
        "Aplica el algoritmo al juego de datos generado"
      ]
    },
    {
      "cell_type": "markdown",
      "metadata": {
        "id": "_Cmj-PVylMsa",
        "colab_type": "text"
      },
      "source": [
        "Respuesta"
      ]
    },
    {
      "cell_type": "code",
      "metadata": {
        "id": "Jkx8GeiYlUz1",
        "colab_type": "code",
        "colab": {
          "base_uri": "https://localhost:8080/",
          "height": 388
        },
        "outputId": "7706ee98-f402-46ad-d8b7-e51dc998f472"
      },
      "source": [
        "# ALGORITMO VORAZ\n",
        "\n",
        "total_audience, created_scheldule = greedy_algorithm(scheldule, games)\n",
        "frame = transform_scheldule(created_scheldule)\n",
        "df = pd.DataFrame(frame)\n",
        "df = df.append({\"Fecha\": \"\", \"Partido\": \"\", \"Category\": \"\", \"Base\": \"\", \"Ponderación\": \"\", \"Base * Ponderación\": \"\", \"Correción coincidencia\": df[\"Correción coincidencia\"].sum()}, ignore_index=True)\n",
        "df.fillna('',inplace=True)\n",
        "display(df)\n",
        "print(\"La audiencia total del calendario generado es igual a:\", '\\033[1m' + str(round(total_audience,2)) + '\\033[0m', \"milliones de personas.\")"
      ],
      "execution_count": 20,
      "outputs": [
        {
          "output_type": "display_data",
          "data": {
            "text/html": [
              "<div>\n",
              "<style scoped>\n",
              "    .dataframe tbody tr th:only-of-type {\n",
              "        vertical-align: middle;\n",
              "    }\n",
              "\n",
              "    .dataframe tbody tr th {\n",
              "        vertical-align: top;\n",
              "    }\n",
              "\n",
              "    .dataframe thead th {\n",
              "        text-align: right;\n",
              "    }\n",
              "</style>\n",
              "<table border=\"1\" class=\"dataframe\">\n",
              "  <thead>\n",
              "    <tr style=\"text-align: right;\">\n",
              "      <th></th>\n",
              "      <th>Fecha</th>\n",
              "      <th>Partido</th>\n",
              "      <th>Category</th>\n",
              "      <th>Base</th>\n",
              "      <th>Ponderación</th>\n",
              "      <th>Base * Ponderación</th>\n",
              "      <th>Correción coincidencia</th>\n",
              "    </tr>\n",
              "  </thead>\n",
              "  <tbody>\n",
              "    <tr>\n",
              "      <th>0</th>\n",
              "      <td>S12</td>\n",
              "      <td>Eibar - Sevilla</td>\n",
              "      <td>B - C</td>\n",
              "      <td>0.75</td>\n",
              "      <td>0.55</td>\n",
              "      <td>0.4125</td>\n",
              "      <td>0.41</td>\n",
              "    </tr>\n",
              "    <tr>\n",
              "      <th>1</th>\n",
              "      <td>S16</td>\n",
              "      <td>Mallorca - Real Madrid</td>\n",
              "      <td>A - C</td>\n",
              "      <td>1</td>\n",
              "      <td>0.7</td>\n",
              "      <td>0.7</td>\n",
              "      <td>0.70</td>\n",
              "    </tr>\n",
              "    <tr>\n",
              "      <th>2</th>\n",
              "      <td>S18</td>\n",
              "      <td>Valencia - Alavés</td>\n",
              "      <td>B - B</td>\n",
              "      <td>0.9</td>\n",
              "      <td>0.8</td>\n",
              "      <td>0.72</td>\n",
              "      <td>0.72</td>\n",
              "    </tr>\n",
              "    <tr>\n",
              "      <th>3</th>\n",
              "      <td>S20</td>\n",
              "      <td>Betis - Celta</td>\n",
              "      <td>B - B</td>\n",
              "      <td>0.9</td>\n",
              "      <td>1</td>\n",
              "      <td>0.9</td>\n",
              "      <td>0.68</td>\n",
              "    </tr>\n",
              "    <tr>\n",
              "      <th>4</th>\n",
              "      <td>S20</td>\n",
              "      <td>Espanyol - Villareal</td>\n",
              "      <td>B - B</td>\n",
              "      <td>0.9</td>\n",
              "      <td>1</td>\n",
              "      <td>0.9</td>\n",
              "      <td>0.68</td>\n",
              "    </tr>\n",
              "    <tr>\n",
              "      <th>5</th>\n",
              "      <td>D12</td>\n",
              "      <td>Osasuna - Leganés</td>\n",
              "      <td>C - C</td>\n",
              "      <td>0.47</td>\n",
              "      <td>0.45</td>\n",
              "      <td>0.2115</td>\n",
              "      <td>0.21</td>\n",
              "    </tr>\n",
              "    <tr>\n",
              "      <th>6</th>\n",
              "      <td>D16</td>\n",
              "      <td>Barcelona - R. Sociedad</td>\n",
              "      <td>A - A</td>\n",
              "      <td>2</td>\n",
              "      <td>0.75</td>\n",
              "      <td>1.5</td>\n",
              "      <td>1.50</td>\n",
              "    </tr>\n",
              "    <tr>\n",
              "      <th>7</th>\n",
              "      <td>D18</td>\n",
              "      <td>Valladolid - Granada</td>\n",
              "      <td>C - C</td>\n",
              "      <td>0.47</td>\n",
              "      <td>0.5</td>\n",
              "      <td>0.235</td>\n",
              "      <td>0.23</td>\n",
              "    </tr>\n",
              "    <tr>\n",
              "      <th>8</th>\n",
              "      <td>D20</td>\n",
              "      <td>Athletic - Levante</td>\n",
              "      <td>B - B</td>\n",
              "      <td>0.9</td>\n",
              "      <td>1</td>\n",
              "      <td>0.9</td>\n",
              "      <td>0.68</td>\n",
              "    </tr>\n",
              "    <tr>\n",
              "      <th>9</th>\n",
              "      <td>D20</td>\n",
              "      <td>Atlético - Getafe</td>\n",
              "      <td>B - B</td>\n",
              "      <td>0.9</td>\n",
              "      <td>1</td>\n",
              "      <td>0.9</td>\n",
              "      <td>0.68</td>\n",
              "    </tr>\n",
              "    <tr>\n",
              "      <th>10</th>\n",
              "      <td></td>\n",
              "      <td></td>\n",
              "      <td></td>\n",
              "      <td></td>\n",
              "      <td></td>\n",
              "      <td></td>\n",
              "      <td>6.49</td>\n",
              "    </tr>\n",
              "  </tbody>\n",
              "</table>\n",
              "</div>"
            ],
            "text/plain": [
              "   Fecha                  Partido  ... Base * Ponderación Correción coincidencia\n",
              "0    S12          Eibar - Sevilla  ...             0.4125                   0.41\n",
              "1    S16   Mallorca - Real Madrid  ...                0.7                   0.70\n",
              "2    S18        Valencia - Alavés  ...               0.72                   0.72\n",
              "3    S20            Betis - Celta  ...                0.9                   0.68\n",
              "4    S20     Espanyol - Villareal  ...                0.9                   0.68\n",
              "5    D12        Osasuna - Leganés  ...             0.2115                   0.21\n",
              "6    D16  Barcelona - R. Sociedad  ...                1.5                   1.50\n",
              "7    D18     Valladolid - Granada  ...              0.235                   0.23\n",
              "8    D20       Athletic - Levante  ...                0.9                   0.68\n",
              "9    D20        Atlético - Getafe  ...                0.9                   0.68\n",
              "10                                 ...                                      6.49\n",
              "\n",
              "[11 rows x 7 columns]"
            ]
          },
          "metadata": {
            "tags": []
          }
        },
        {
          "output_type": "stream",
          "text": [
            "La audiencia total del calendario generado es igual a: \u001b[1m6.48\u001b[0m milliones de personas.\n"
          ],
          "name": "stdout"
        }
      ]
    },
    {
      "cell_type": "markdown",
      "metadata": {
        "colab_type": "text",
        "id": "eTFWUJQrtGcv"
      },
      "source": [
        "Enumera las referencias que has utilizado(si ha sido necesario) para llevar a cabo el trabajo"
      ]
    },
    {
      "cell_type": "markdown",
      "metadata": {
        "id": "YKQ_mRBttWsP",
        "colab_type": "text"
      },
      "source": [
        "Respuesta"
      ]
    },
    {
      "cell_type": "code",
      "metadata": {
        "id": "GQLLBNQ58Izi",
        "colab_type": "code",
        "colab": {}
      },
      "source": [
        "# No he utilizado ningun otro fuente aparte del manual de la asignatura"
      ],
      "execution_count": 21,
      "outputs": []
    },
    {
      "cell_type": "markdown",
      "metadata": {
        "id": "kAkDPUyRtYyH",
        "colab_type": "text"
      },
      "source": [
        "Describe brevemente las lineas de como crees que es posible avanzar en el estudio del problema. Ten en cuenta incluso posibles variaciones del problema y/o variaciones al alza del tamaño"
      ]
    },
    {
      "cell_type": "markdown",
      "metadata": {
        "id": "IE0uZmo-tZu-",
        "colab_type": "text"
      },
      "source": [
        "Respuesta"
      ]
    }
  ]
}