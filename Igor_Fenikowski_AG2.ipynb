{
  "nbformat": 4,
  "nbformat_minor": 0,
  "metadata": {
    "colab": {
      "name": "Igor Fenikowski - AG2.ipynb",
      "provenance": [],
      "collapsed_sections": [],
      "authorship_tag": "ABX9TyNQsqoKyMO5UjR5ovP0kj4j",
      "include_colab_link": true
    },
    "kernelspec": {
      "name": "python3",
      "display_name": "Python 3"
    }
  },
  "cells": [
    {
      "cell_type": "markdown",
      "metadata": {
        "id": "view-in-github",
        "colab_type": "text"
      },
      "source": [
        "<a href=\"https://colab.research.google.com/github/fenikowski/03MAIR--Algoritmos-de-Optimizacion--2020/blob/master/Igor_Fenikowski_AG2.ipynb\" target=\"_parent\"><img src=\"https://colab.research.google.com/assets/colab-badge.svg\" alt=\"Open In Colab\"/></a>"
      ]
    },
    {
      "cell_type": "code",
      "metadata": {
        "id": "J7YQRQ-DCYK6",
        "colab_type": "code",
        "colab": {}
      },
      "source": [
        "# Nombre: Igor Fenikowski\n",
        "# https://colab.research.google.com/drive/1cOJFvF5J6xthI8QWPFjWJLHgkDygwFkL?usp=sharing"
      ],
      "execution_count": 1,
      "outputs": []
    },
    {
      "cell_type": "markdown",
      "metadata": {
        "id": "FQrqytkg47CI",
        "colab_type": "text"
      },
      "source": [
        "### Programación dinámica"
      ]
    },
    {
      "cell_type": "code",
      "metadata": {
        "id": "K7HjQo5Susmf",
        "colab_type": "code",
        "colab": {}
      },
      "source": [
        "tariffs = [\n",
        "           [0,5,4,3,999,999,999],\n",
        "           [999,0,999,2,3,999,11],\n",
        "           [999,999,0,1,999,4,10],\n",
        "           [999,999,999,0,5,6,9],\n",
        "           [999,999,999,999,0,999,4],\n",
        "           [999,999,999,999,999,0,3],\n",
        "           [999,999,999,999,999,999,0]\n",
        "]"
      ],
      "execution_count": 2,
      "outputs": []
    },
    {
      "cell_type": "code",
      "metadata": {
        "id": "VAyREiFnu0tN",
        "colab_type": "code",
        "colab": {}
      },
      "source": [
        "def prices(tariffs):\n",
        "  N = len(tariffs[0])\n",
        "\n",
        "  prices = [[9999]*N for i in [9999]*N]\n",
        "  route = [[\"\"]*N for i in [\"\"]*N]\n",
        "\n",
        "  for i in range(N-1):\n",
        "    for j in range(i+1, N):\n",
        "      MIN = tariffs[i][j]\n",
        "      route[i][j] = i\n",
        "\n",
        "      for k in range(i,j):\n",
        "        if prices[i][k] + tariffs[k][j] < MIN:\n",
        "          MIN = min(MIN, prices[i][k] + tariffs[k][j])\n",
        "          route[i][j] = k\n",
        "        prices[i][j] = MIN\n",
        "\n",
        "  return prices, route"
      ],
      "execution_count": 3,
      "outputs": []
    },
    {
      "cell_type": "code",
      "metadata": {
        "id": "S_ugrqUUw7Rr",
        "colab_type": "code",
        "colab": {}
      },
      "source": [
        "price, route = prices(tariffs)"
      ],
      "execution_count": 4,
      "outputs": []
    },
    {
      "cell_type": "code",
      "metadata": {
        "id": "Y7uyP637xD-D",
        "colab_type": "code",
        "colab": {
          "base_uri": "https://localhost:8080/",
          "height": 134
        },
        "outputId": "069f7eed-bbf3-4d79-a8bc-ab5db5198977"
      },
      "source": [
        "display(route)"
      ],
      "execution_count": 5,
      "outputs": [
        {
          "output_type": "display_data",
          "data": {
            "text/plain": [
              "[['', 0, 0, 0, 1, 2, 5],\n",
              " ['', '', 1, 1, 1, 3, 4],\n",
              " ['', '', '', 2, 3, 2, 5],\n",
              " ['', '', '', '', 3, 3, 3],\n",
              " ['', '', '', '', '', 4, 4],\n",
              " ['', '', '', '', '', '', 5],\n",
              " ['', '', '', '', '', '', '']]"
            ]
          },
          "metadata": {
            "tags": []
          }
        }
      ]
    },
    {
      "cell_type": "code",
      "metadata": {
        "id": "ZGgpqRh3xF4X",
        "colab_type": "code",
        "colab": {
          "base_uri": "https://localhost:8080/",
          "height": 69
        },
        "outputId": "3df9f603-b664-4635-b4cf-fcaa2a982e4e"
      },
      "source": [
        "def calculate_route(route, origin, destination):\n",
        "  if origin == destination:\n",
        "    return destination\n",
        "  else:\n",
        "    return str(calculate_route(route, origin, route[origin][destination])) + ' , ' + str(route[origin][destination])\n",
        "\n",
        "print(\"\\nLa ruta es:\")\n",
        "calculate_route(route, 0, 6)"
      ],
      "execution_count": 6,
      "outputs": [
        {
          "output_type": "stream",
          "text": [
            "\n",
            "La ruta es:\n"
          ],
          "name": "stdout"
        },
        {
          "output_type": "execute_result",
          "data": {
            "application/vnd.google.colaboratory.intrinsic": {
              "type": "string"
            },
            "text/plain": [
              "'0 , 0 , 2 , 5'"
            ]
          },
          "metadata": {
            "tags": []
          },
          "execution_count": 6
        }
      ]
    },
    {
      "cell_type": "markdown",
      "metadata": {
        "id": "X5mzjSos5QZA",
        "colab_type": "text"
      },
      "source": [
        "### Ramificación y Poda"
      ]
    },
    {
      "cell_type": "markdown",
      "metadata": {
        "id": "OFU6ehGZPe-u",
        "colab_type": "text"
      },
      "source": [
        "#### Brute force"
      ]
    },
    {
      "cell_type": "code",
      "metadata": {
        "id": "9mD_YOnEzJ-P",
        "colab_type": "code",
        "colab": {
          "base_uri": "https://localhost:8080/",
          "height": 34
        },
        "outputId": "c9a2baf1-14b1-4379-c75e-3f59b75171bd"
      },
      "source": [
        "import itertools\n",
        "\n",
        "costs = [\n",
        "         [11,12,18,40],\n",
        "         [14,15,13,22],\n",
        "         [11,17,19,23],\n",
        "         [17,14,20,28]\n",
        "]\n",
        "\n",
        "def value(s,costs):\n",
        "  value = 0\n",
        "  for i in range(len(s)):\n",
        "    value += costs[i][s[i]]\n",
        "  return value\n",
        "\n",
        "def brute_force(costs):\n",
        "\n",
        "  best_value = 10e10\n",
        "  best_solution = ()\n",
        "\n",
        "  for s in list(itertools.permutations(range(len(costs)))):\n",
        "    tmp_value = value(s, costs)\n",
        "    if tmp_value < best_value:\n",
        "      best_value = tmp_value\n",
        "      best_solution = s\n",
        "\n",
        "  print(\"La mejor solución es: \", best_solution, \" con valor: \", best_value)\n",
        "\n",
        "brute_force(costs)"
      ],
      "execution_count": 7,
      "outputs": [
        {
          "output_type": "stream",
          "text": [
            "La mejor solución es:  (0, 2, 3, 1)  con valor:  61\n"
          ],
          "name": "stdout"
        }
      ]
    },
    {
      "cell_type": "markdown",
      "metadata": {
        "id": "syEGXf3IPjOD",
        "colab_type": "text"
      },
      "source": [
        "#### Ramificación y poda"
      ]
    },
    {
      "cell_type": "code",
      "metadata": {
        "id": "ue-M1mB-IXDl",
        "colab_type": "code",
        "colab": {
          "base_uri": "https://localhost:8080/",
          "height": 34
        },
        "outputId": "8c64149c-915f-4fd6-cbad-d35eb56335f7"
      },
      "source": [
        "\n",
        "def create_children(node, n):\n",
        "  children = []\n",
        "  for i in range(n):\n",
        "    if i not in node:\n",
        "      children.append({'s': node + (i,)})\n",
        "  return children\n",
        "\n",
        "\n",
        "def CI(s, costs):\n",
        "  value = 0\n",
        "\n",
        "  for i in range(len(s)):\n",
        "    value += costs[i][s[i]]\n",
        "\n",
        "    for i in range(len(costs)):\n",
        "      if i not in s:\n",
        "        value += min([costs[j][i] for j in range(len(s),len(costs))])\n",
        "  return value\n",
        "\n",
        "\n",
        "def branch_and_bound(costs):\n",
        "  dimension = len(costs)\n",
        "  best_solution = tuple(i for i in range(len(costs)))\n",
        "  cota_sup = value(best_solution, costs)\n",
        "\n",
        "  nodes=[]\n",
        "  nodes.append({'s':(), 'ci': CI((),costs)})\n",
        "\n",
        "  iteration = 0\n",
        "\n",
        "  while(len(nodes) > 0):\n",
        "    iteration += 1\n",
        "\n",
        "    promising_node = [min(nodes, key=lambda x: x['ci'])][0]['s']\n",
        "\n",
        "    # Branching\n",
        "    children = [{'s': x['s'], 'ci': CI(x['s'], costs)} for x in create_children(promising_node, dimension) ]\n",
        "\n",
        "    # Final solution\n",
        "    final_node = [x for x in children if len(x['s']) == dimension]\n",
        "    if len(final_node) > 0:\n",
        "      if final_node[0]['ci'] < cota_sup:\n",
        "        cota_sup = final_node[0]['ci']\n",
        "        best_solution = final_node\n",
        "\n",
        "    # Bounding\n",
        "    children = [x for x in children if x['ci'] < cota_sup]\n",
        "\n",
        "    # Adding children\n",
        "    nodes.extend(children)\n",
        "\n",
        "    # Removing branched node\n",
        "    nodes = [ x for x in nodes if x['s'] != promising_node]\n",
        "\n",
        "  print(\"La solución final es: \", best_solution, \" en \", iteration, \" iteraciones para dimensión: \", dimension)\n",
        "\n",
        "branch_and_bound(costs)"
      ],
      "execution_count": 8,
      "outputs": [
        {
          "output_type": "stream",
          "text": [
            "La solución final es:  (0, 1, 2, 3)  en  4  iteraciones para dimensión:  4\n"
          ],
          "name": "stdout"
        }
      ]
    }
  ]
}